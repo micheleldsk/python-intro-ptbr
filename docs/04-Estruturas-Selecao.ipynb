{
 "cells": [
  {
   "cell_type": "markdown",
   "id": "82a66505-fcd8-4b96-9b7b-30ff2bdc934d",
   "metadata": {},
   "source": [
    "# Introdução ao Python"
   ]
  },
  {
   "cell_type": "markdown",
   "id": "b44c74c1-3db1-438f-964f-05961245ad58",
   "metadata": {},
   "source": [
    "## O que você saberá se você ler todo este capítulo?\n",
    "\n",
    "1. if/elif/else\n",
    "2. Teste de mesa"
   ]
  },
  {
   "cell_type": "markdown",
   "id": "c428e1de-b8ae-4e8e-897f-e23d0964ba7b",
   "metadata": {},
   "source": [
    "```bash\n",
    " 1. Início\n",
    " 2.   Inteiro: num1, num2, soma\n",
    " 3. \n",
    " 4.   Escreva(\"Digite o primeiro número: \")\n",
    " 5.   Leia(num1)\n",
    " 6.   \n",
    " 7.   Escreva(\"Digite o segundo número: \")\n",
    " 8.   Leia(num2)\n",
    " 9.   \n",
    "10.   soma = num1 + num2\n",
    "11.   Escreva(\"O resultado da soma é: \", soma)\n",
    "12. Fim\n",
    "```"
   ]
  },
  {
   "cell_type": "markdown",
   "id": "ad42cc5c-1024-49b0-a360-2e5e6ad61996",
   "metadata": {},
   "source": [
    "Ora, como transcreveríamos este exemplo? O mesmíssimo algoritmo acima, mas escrito em Python, seria assim:"
   ]
  },
  {
   "cell_type": "markdown",
   "id": "e32a6443-0f74-41e8-b21c-b10b6f2f1ceb",
   "metadata": {},
   "source": [
    "```python\n",
    "print(\"Digite o primeiro número: \")\n",
    "num1 = int(input())\n",
    "\n",
    "print(\"Digite o segundo número: \")\n",
    "num2 = int(input())\n",
    "\n",
    "soma = num1 + num2\n",
    "print(\"A soma dos números é: \", soma)\n",
    "```"
   ]
  },
  {
   "cell_type": "markdown",
   "id": "0324b1f2-b2d9-4346-9e52-5198aa16d70d",
   "metadata": {},
   "source": [
    "Agora, quais são as semelhanças e diferenças entre os dois algoritmos? Comecemos pelas diferenças: as palavras `Início` e `Fim` saíram de cena. Além disso, a linha 2 do pseudocódigo que declarava as três variáveis deixou de existir: em Python, isto não é mais necessário. Finalmente, a função `Escreva` deu lugar à `print`, e a `Leia` deu lugar à `int(input())`.\n",
    "\n",
    "Quanto às semelhanças, temos várias delas. Primeiro, a ordem do algoritmo é mantida. A organização também: veja como as linhas estão organizadas. O mesmo se aplica às mensagens e à operação de soma. Por isso que começar a escrever algoritmos em Python é mais simples do que parece a princípio: se você sabe como os algoritmos funcionam de forma geral e sabe interpretar pseudocódigo, então rapidamente você também conseguirá escrever algoritmos utilizando Python.\n",
    "\n",
    "Mas, e aí? Como *testamos* isso usando o PyCharm? Vamos testar aqui por partes, beleza?"
   ]
  },
  {
   "cell_type": "markdown",
   "id": "097ed3b9-0748-48b3-8142-da4161085628",
   "metadata": {
    "tags": []
   },
   "source": [
    "## Teste de mesa"
   ]
  },
  {
   "cell_type": "markdown",
   "id": "f62b8572-22ce-4bbc-a4a2-8144f8dcbab1",
   "metadata": {},
   "source": [
    "## Exercícios\n",
    "3. Crie um algoritmo que solicita ao usuário que insira um número inteiro e exibe na tela se ele é par ou ímpar.\n",
    "   - Exemplo: um usuário digita o número `7`. O algoritmo deve retornar a mensagem *\"Ímpar\"*.\n",
    "4. Crie um algoritmo que solicita ao usuário que insira um número e exibe na tela se ele é positivo, negativo ou zero.\n",
    "   - Exemplo: um usuário digita o número `-51.05`. O algoritmo deve retornar a mensagem *\"Negativo\"*."
   ]
  },
  {
   "cell_type": "markdown",
   "id": "6eb1958e-d357-4e03-9e7c-17f34c05a5ee",
   "metadata": {},
   "source": [
    "### Respostas"
   ]
  },
  {
   "cell_type": "markdown",
   "id": "61e344a8-5f18-445d-81b1-c3268ccf2eed",
   "metadata": {},
   "source": [
    "3. Crie um algoritmo que solicita ao usuário que insira um número inteiro e exibe na tela se ele é par ou ímpar.\n",
    "\n",
    "```python\n",
    "num = int(input(\"Insira um número inteiro: \"))\n",
    "\n",
    "if num % 2 == 0:\n",
    "    print(num, \"é um número par\")\n",
    "else:\n",
    "    print(num, \"é um número ímpar\")\n",
    "```\n",
    "\n",
    "O algoritmo começa solicitando ao usuário que insira um número inteiro através da função `input()`, que lê a entrada do usuário como uma string. Em seguida, o número é convertido para um inteiro usando a função `int()`, e armazenado na variável `num`.\n",
    "\n",
    "A partir daí, usamos um condicional if para verificar se o número é par ou ímpar. Se o resto da divisão por `2 (num % 2)` for igual a 0, significa que o número é par, e a mensagem correspondente é exibida na tela usando a função `print()`. Caso contrário, o número é ímpar, e a mensagem correspondente é exibida."
   ]
  },
  {
   "cell_type": "markdown",
   "id": "c35e05f8-e3f6-428b-85ba-d7605602e928",
   "metadata": {},
   "source": [
    "4. Crie um algoritmo que solicita ao usuário que insira um número e exibe na tela se ele é positivo, negativo ou zero.\n",
    "\n",
    "```python\n",
    "num = float(input(\"Digite um número: \"))\n",
    "\n",
    "if num > 0:\n",
    "    print(\"O número é positivo.\")\n",
    "elif num < 0:\n",
    "    print(\"O número é negativo.\")\n",
    "else:\n",
    "    print(\"O número é zero.\")\n",
    "```\n",
    "\n",
    "O programa começa pedindo para que o usuário digite um número, que é armazenado na variável num. Em seguida, um bloco condicional `if-elif-else` é utilizado para verificar se o número é positivo, negativo ou zero.\n",
    "\n",
    "Se o número for maior que zero, o programa exibe a mensagem `O número é positivo`. Se o número for menor que zero, o programa exibe a mensagem `O número é negativo`. Se o número for igual a zero, o programa exibe a mensagem `O número é zero`."
   ]
  },
  {
   "cell_type": "markdown",
   "id": "67c56eb3-a5ea-4b5a-9f8f-adf4b3d70696",
   "metadata": {},
   "source": [
    "## Referências bibliográficas"
   ]
  },
  {
   "cell_type": "markdown",
   "id": "e1aacf96-ae08-482a-9ba7-24bf0280151f",
   "metadata": {},
   "source": [
    "- "
   ]
  }
 ],
 "metadata": {
  "kernelspec": {
   "display_name": "Python 3 (ipykernel)",
   "language": "python",
   "name": "python3"
  },
  "language_info": {
   "codemirror_mode": {
    "name": "ipython",
    "version": 3
   },
   "file_extension": ".py",
   "mimetype": "text/x-python",
   "name": "python",
   "nbconvert_exporter": "python",
   "pygments_lexer": "ipython3",
   "version": "3.9.12"
  }
 },
 "nbformat": 4,
 "nbformat_minor": 5
}
