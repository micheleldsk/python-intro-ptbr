{
 "cells": [
  {
   "cell_type": "markdown",
   "id": "82a66505-fcd8-4b96-9b7b-30ff2bdc934d",
   "metadata": {},
   "source": [
    "# Primeiros (ou segundos) passos em Python"
   ]
  },
  {
   "cell_type": "markdown",
   "id": "b44c74c1-3db1-438f-964f-05961245ad58",
   "metadata": {},
   "source": [
    "## O que você saberá se você ler todo este capítulo?\n",
    "\n",
    "1. Você saberá usar as funções de entrada e saída de dados (`input` e `print`) em Python.\n",
    "2. Você saberá usar operadores aritméticos em Python.\n",
    "3. Você saberá formatar textos (strings) em Python."
   ]
  },
  {
   "cell_type": "markdown",
   "id": "aac24272-4792-4dbe-93b4-e6158b11b5eb",
   "metadata": {},
   "source": [
    "## Saindo do pseudocódigo para o Python\n",
    "\n",
    "Imagine que você quer construir uma casa. O pseudocódigo se aproxima à planta da casa: você não pode entrar nela e não pode fazer muita coisa de verdade com esta planta, mas ela serve como um bom ponto de partida e te dá uma boa ideia de como a casa deve funcionar, não é? Isto é: a planta te ajuda a entender o que falta/o que você precisaria pensar *antes* de construir a casa.\n",
    "\n",
    "Já um algoritmo feito em Python se assemelha à casa construída. Você pode usar a casa (entrar e sair, morar, mobiliar, entre outros) como você quiser. Ela é um objeto real que existe e funciona. E, é claro: se você está aprendendo a montar casas, seria legal já seguir uma planta construída anteriormente, não é?\n",
    "\n",
    "É por isso que comentamos antes sobre o pseudocódigo: colocar as suas ideias no papel com um pseudocódigo *antes*  de trabalhar em Python o ajuda muito a pensar em algoritmos e a ganhar velocidade e aprendizagem. Além disso, ao conhecer o pseudocódigo é mais fácil de pensarmos em alguns exemplos *antes* de colocar a mão na massa no PyCharm. Para isso, vamos usar como base aquele pseudocódigo que soma dois números e mostra para o usuário o resultado dessa soma:"
   ]
  },
  {
   "cell_type": "markdown",
   "id": "c428e1de-b8ae-4e8e-897f-e23d0964ba7b",
   "metadata": {},
   "source": [
    "```bash\n",
    " 1. Início\n",
    " 2.   Inteiro: num1, num2, soma\n",
    " 3. \n",
    " 4.   Escreva(\"Digite o primeiro número: \")\n",
    " 5.   Leia(num1)\n",
    " 6.   \n",
    " 7.   Escreva(\"Digite o segundo número: \")\n",
    " 8.   Leia(num2)\n",
    " 9.   \n",
    "10.   soma = num1 + num2\n",
    "11.   Escreva(\"O resultado da soma é: \", soma)\n",
    "12. Fim\n",
    "```"
   ]
  },
  {
   "cell_type": "markdown",
   "id": "ad42cc5c-1024-49b0-a360-2e5e6ad61996",
   "metadata": {},
   "source": [
    "Ora, como transcreveríamos este exemplo? O mesmíssimo algoritmo acima, mas escrito em Python, seria assim:"
   ]
  },
  {
   "cell_type": "markdown",
   "id": "e32a6443-0f74-41e8-b21c-b10b6f2f1ceb",
   "metadata": {},
   "source": [
    "```python\n",
    "print(\"Digite o primeiro número: \")\n",
    "num1 = int(input())\n",
    "\n",
    "print(\"Digite o segundo número: \")\n",
    "num2 = int(input())\n",
    "\n",
    "soma = num1 + num2\n",
    "print(\"A soma dos números é: \", soma)\n",
    "```"
   ]
  },
  {
   "cell_type": "markdown",
   "id": "0324b1f2-b2d9-4346-9e52-5198aa16d70d",
   "metadata": {},
   "source": [
    "Agora, quais são as semelhanças e diferenças entre os dois algoritmos? Comecemos pelas diferenças: as palavras `Início` e `Fim` saíram de cena. Além disso, a linha 2 do pseudocódigo que declarava as três variáveis deixou de existir: em Python, isto não é mais necessário. Finalmente, a função `Escreva` deu lugar à `print`, e a `Leia` deu lugar à `int(input())`.\n",
    "\n",
    "Quanto às semelhanças, temos várias delas. Primeiro, a ordem do algoritmo é mantida. A organização também: veja como as linhas estão organizadas. O mesmo se aplica às mensagens e à operação de soma. Por isso que começar a escrever algoritmos em Python é mais simples do que parece a princípio: se você sabe como os algoritmos funcionam de forma geral e sabe interpretar pseudocódigo, então rapidamente você também conseguirá escrever algoritmos utilizando Python.\n",
    "\n",
    "Mas, e aí? Como *testamos* isso usando o PyCharm? Vamos testar aqui por partes, beleza?"
   ]
  },
  {
   "cell_type": "markdown",
   "id": "ddc4c604-47b1-48ab-afb1-5d30755939db",
   "metadata": {},
   "source": [
    "## Variáveis"
   ]
  },
  {
   "cell_type": "markdown",
   "id": "aa23aeab-17af-4c6e-b69f-7a6a3824b8ad",
   "metadata": {},
   "source": [
    "Variáveis em Python são uma forma de armazenar dados em um programa, como números, textos, listas, entre outros. É como se fossem caixinhas onde podemos guardar valores que podem ser usados em diferentes partes do código. Podemos escolher um nome para cada variável e atribuir um valor a ela. Por exemplo, podemos criar uma variável chamada `idade` e atribuir o valor 21 a ela. Assim, sempre que quisermos saber a idade, podemos usar o nome da variável em vez de escrever o número 21 de novo.\n",
    "\n",
    "Teste o seguinte no Python Console do PyCharm. Ao final de cada linha, aperte `Enter`."
   ]
  },
  {
   "cell_type": "code",
   "execution_count": 8,
   "id": "809edb3d-77f3-4dc2-b8a8-6435ae75d6a8",
   "metadata": {},
   "outputs": [],
   "source": [
    "idade = 21\n",
    "nome = 'Beltrano'\n",
    "cidade = 'São Paulo'\n",
    "campeonatos = 1"
   ]
  },
  {
   "cell_type": "markdown",
   "id": "2a37caf7-f56b-492e-a8d4-8fb504fef771",
   "metadata": {},
   "source": [
    "Após digitar essas variáveis você irá perceber que elas vão sendo \"salvas\" na lista à esquerda. Isto quer dizer que estão armazenadas em memória e prontas para consultar e reaproveitar como quiser. Olha só:"
   ]
  },
  {
   "cell_type": "markdown",
   "id": "6c1bc3df-311f-4c8c-ac94-ce65e953944b",
   "metadata": {},
   "source": [
    "<figure>\n",
    "    <img alt=\"Variáveis 'idade', 'nome', 'cidade' e 'campeonatos' armazenadas com os valores 21, 'Beltrano', 'São Paulo' e 1, respectivamente.\" src=\"pycharm_variable_test.png\" style=\"max-width:600px; display: block; margin: auto;\">\n",
    "    <figcaption style=\"text-align:center;\">Variáveis armazenadas temporariamente no PyCharm.</figcaption>\n",
    "</figure>"
   ]
  },
  {
   "cell_type": "markdown",
   "id": "326367a3-1aff-46fa-9571-d17493a00969",
   "metadata": {},
   "source": [
    "Elas permanecerão salvas em memória até que você encerre o programa. Digite somente isso no console e aperte `Enter`:\n",
    "\n",
    "```python\n",
    "idade\n",
    "```\n",
    "\n",
    "Você verá que aparecerá o valor guardado para aquela variável (no caso, `21`). Você pode fazer isso quantas vezes quiser e para as outras variáveis também. O que acha de testar um pouco?"
   ]
  },
  {
   "cell_type": "markdown",
   "id": "dac67a34-505e-4f6c-8ce7-30440343659a",
   "metadata": {},
   "source": [
    "Ah! Como o nome é *variável*, você poderia também variar (mudar) o nome delas se quiser. Veja o que acontece naquela lista à esquerda se você fizer isso e logo após apertar `Enter`:\n",
    "    \n",
    "```python\n",
    "cidade = 'Salvador'\n",
    "```\n",
    "\n",
    "Viu que o nome da cidade mudou?"
   ]
  },
  {
   "cell_type": "markdown",
   "id": "5a024959-dc88-4721-a516-9ae1b98aef78",
   "metadata": {},
   "source": [
    "<figure>\n",
    "    <img alt=\"Variável `cidade` agora mostra o valor `Salvador` no PyCharm.\" src=\"pycharm_city_change.png\" style=\"max-width:600px; display: block; margin: auto;\">\n",
    "    <figcaption style=\"text-align:center;\">O valor da variável \"cidade\" mudou para \"Salvador\".</figcaption>\n",
    "</figure>"
   ]
  },
  {
   "cell_type": "markdown",
   "id": "1ce09fff-e094-4afe-9759-2b9ead913302",
   "metadata": {},
   "source": [
    "Quer testar outras variáveis? Teste algumas (ou todas) no PyCharm:\n",
    "\n",
    "```python\n",
    "nome = 'Maria'\n",
    "idade = 25\n",
    "altura = 1.65\n",
    "peso = 60.5\n",
    "estudante = True\n",
    "frutas = [\"maçã\", \"banana\", \"laranja\"]\n",
    "idade_gato = 2\n",
    "cor = \"azul\"\n",
    "preco = 9.99\n",
    "estado_civil = 'solteiro'\n",
    "data_nascimento = \"12/08/2001\"\n",
    "pais = \"Brasil\"\n",
    "email = \"exemplo@gmail.com\"\n",
    "endereco = \"Rua das Flores, 123\"\n",
    "quantidade = 10\n",
    "velocidade = 50.0\n",
    "codigo = 12345\n",
    "possui_cachorro = False\n",
    "salario = 2500.00\n",
    "usuario = \"123\"\n",
    "linguagens = [\"Python\", \"Java\", \"C++\", \"Scala\"]\n",
    "```\n",
    "\n",
    "Percebeu algumas semelhanças e diferenças? Olha só:\n",
    "1. Variáveis que guardam strings (em Python, chamamos elas de tipo `str`, de *string*): `nome`, `cor`, `estado_civil`, `data_nascimento`, `pais`, `email`, `endereco`, `usuario`. Perceba que os valores são envoltos por aspas simples ou aspas duplas.\n",
    "2. Variáveis que guardam números inteiros (em Python, chamamos elas de tipo `int`, de *integer*): `idade`, `idade_gato`, `quantidade`, `codigo`. Perceba que são números sem casas decimais e sem aspas simples ou aspas duplas: somente dígitos.\n",
    "3. Variáveis que guardam números com casas decimais (em Python, chamamos elas de tipo `float` ou números em que o ponto muda/flutua de posição - `floating point`): `altura`, `peso`, `preco`, `velocidade`, `salario`. Veja que são números sem aspas simples e que possuem o ponto para mostrar onde começam as casas decimais. **Em Python, não usamos a vírgula para separar as casas decimais**.\n",
    "4. Variáveis que guardam valores binários/booleanos (em Python, chamamos elas de tipo `bool`): `estudante`, `possui_cachorro`. Ela guardaria valores do tipo `True` (verdadeiro) ou `False` (falso).\n",
    "5. Variáveis que guardam mais de um valor ao mesmo tempo: `frutas` e `linguagens`. Perceba que elas possuem mais de um valor armazenado e estão envoltas por colchetes. Os colchetes indicam que são *listas de valores*.\n",
    "\n",
    "Finalmente, veja que os nomes das variáveis sempre seguem um padrão: sempre em minúsculas, sem acentos e sem espaços. Quando são palavras compostas, as separamos por underscores (`_`). Também perceba que armazenamos (atribuímos) o valor dentro de cada variável com o símbolo de `=`. Por isso, lemos `pais = \"Brasil\"` como *\"a variável chamada `pais` recebe o valor* `Brasil`*\"*."
   ]
  },
  {
   "cell_type": "markdown",
   "id": "f2f9e88d-4560-4d7d-94d0-d777c173a5c2",
   "metadata": {},
   "source": [
    "### Constantes"
   ]
  },
  {
   "cell_type": "markdown",
   "id": "c88bbb6a-ec44-4df2-930d-840db7bf0d3a",
   "metadata": {},
   "source": [
    "Se não quisermos que um valor seja alterado (como o valor de $\\pi$, que nunca mudaria) trabalharíamos com constantes. O uso de constantes é bem comum em outras linguagens de programação, como C e Java, mas o conceito de constantes não existe em Python.\n",
    "\n",
    "Dito isso, por convenção e por boa prática é comum nomear variáveis que **não devem ser alteradas** e que deveriam ser entendidas como constantes usando letras maiúsculas e underscores (`_`). Essa convenção é mais uma forma de deixar o código mais legível para os desenvolvedores, indicando que determinada variável não deve ser alterada durante a execução do programa.\n",
    "\n",
    "Veja os exemplos abaixo. Ainda são variáveis, mas devem ser interpretadas como desenvolvedores como sendo constantes.\n",
    "```python\n",
    "PI = 3.14159265359\n",
    "GRAV_ACCEL = 9.81\n",
    "URL_BASE = \"https://www.google.com.br\"\n",
    "TAXA_JUROS = 0.05\n",
    "TAMANHO_MAXIMO = 1024\n",
    "```\n",
    "\n",
    "Dito isso, vale lembrar que essa convenção não impede que essas variáveis sejam alteradas por engano ou por uma falha no código."
   ]
  },
  {
   "cell_type": "markdown",
   "id": "6773361b-aeb0-4ae4-b202-cfaf0513aba9",
   "metadata": {},
   "source": [
    "## Operadores\n",
    "Aquele sinal de `=` que acabamos de ver é um exemplo de operador: é um símbolo que existe para fazer algum tipo de operação (somar, guardar algum valor, subtrair, dividir, comparar, etc.) com valores e variáveis. Dito isso, existem outros operadores que podem ajudar a manipular diferentes variáveis.\n",
    "\n",
    "### Operadores aritméticos\n",
    "No seu Python Console do PyCharm, crie duas novas variáveis:\n",
    "\n",
    "```python\n",
    "num1 = 3\n",
    "num2 = 5\n",
    "texto1 = 'Oi'\n",
    "texto2 = 'Tchau'\n",
    "texto3 = \"Oi\"\n",
    "```\n",
    "\n",
    "Os operadores aritméticos são usados para realizar operações matemáticas básicas, como adição (`+`), subtração (`-`), multiplicação (`*`), divisão (`/`), módulo (ou resto da divisão, símbolo `%`) e exponenciação (`**`).\n",
    "\n",
    "Teste os seguintes comandos e veja os resultados. Não preciso dizer que você precisa apertar `Enter` no final de cada comando, né?\n",
    "```python\n",
    "num1 + num2\n",
    "num1 - num2\n",
    "num1 * num2\n",
    "num1 / num2\n",
    "num1 % num2\n",
    "num1 ** num2\n",
    "```\n",
    "\n",
    "Os resultados devem ser, respectivamente: `8`, `-2`, `15`, `0.6`, `3` e `243`. Faz sentido com a matemática básica, não é? Agora teste:\n",
    "\n",
    "```python\n",
    "texto1 + texto2\n",
    "```\n",
    "\n",
    "Aparecerá `OiTchau` na tela. Em Python, é possível usarmos o símbolo de `+` para concatenar (juntar) textos, também.\n",
    "\n",
    "### Operadores de comparação\n",
    "\n",
    "### Operadores lógicos\n",
    "\n",
    "### Operadores de identidade"
   ]
  },
  {
   "cell_type": "markdown",
   "id": "40abdd3b-e997-457f-960e-ee4fec6d0f8a",
   "metadata": {},
   "source": [
    "## `input` e `print`\n",
    "A função `input()` em Python é uma função que permite que o usuário insira dados em um código. Ela é utilizada para que o código possa interagir com o usuário e receber informações que serão processadas. Essa função permite que o usuário possa informar dados de entrada para o código, como valores numéricos, textos, informações de datas, entre outros. O resultado dessa função é a leitura desses dados pelo código e o armazenamento dos mesmos em variáveis para que possam ser processados.\n",
    "\n",
    "Já a função `print()` em Python é utilizada para exibir informações na tela do computador ou em um arquivo. Ela é utilizada para que o código possa exibir informações para o usuário, como resultados de cálculos, mensagens de erro, instruções de uso, entre outros. Essa função permite que o usuário possa visualizar os resultados gerados pelo código, tornando-o mais interativo e amigável. O resultado dessa função é a exibição das informações na tela ou em um arquivo de texto.\n",
    "\n",
    "As funções `input()` e `print()` são fundamentais em Python, pois permitem que o código possa interagir com o usuário e gerar informações úteis para o mesmo. Essas funções são utilizadas em praticamente todos os códigos em Python, desde os mais simples até os mais complexos. Elas são ferramentas essenciais para a criação de códigos mais interativos e amigáveis, facilitando o uso pelos usuários. É importante que quem esteja iniciando em Python aprenda o funcionamento dessas funções e como utilizá-las corretamente, já que elas são a base para a interação do código com o usuário."
   ]
  },
  {
   "cell_type": "markdown",
   "id": "cd2c3b30-f21e-4b80-ae7f-d1d051e0d20e",
   "metadata": {},
   "source": [
    "## Exemplos\n",
    "1. Crie um algoritmo que solicita ao usuário que insira seu nome e exibe na tela uma mensagem de saudação\n",
    "   - Exemplo: um usuário digita o seu nome (como `Fulano de Tal`). O algoritmo deve retornar uma mensagem chamada *\"Oi, Fulano de Tal! Espero que você tenha uma boa semana!\"*.\n",
    "2. Crie um algoritmo que solicita ao usuário que insira um número decimal e exibe o dobro desse número na tela.\n",
    "   - Exemplo: um usuário digita o número `23.51`. O algoritmo deve retornar `47.02`.\n",
    "3. Crie um algoritmo que solicita ao usuário que insira um número inteiro e exibe na tela se ele é par ou ímpar.\n",
    "   - Exemplo: um usuário digita o número `7`. O algoritmo deve retornar a mensagem *\"Ímpar\"*.\n",
    "4. Crie um algoritmo que solicita ao usuário que insira um número e exibe na tela se ele é positivo, negativo ou zero.\n",
    "   - Exemplo: um usuário digita o número `-51.05`. O algoritmo deve retornar a mensagem *\"Negativo\"*.\n",
    "5. Crie um algoritmo que solicita ao usuário que insira a temperatura em graus Celsius e exibe na tela a temperatura em Fahrenheit.\n",
    "   - Exemplo: um usuário digita o número `23`. O algoritmo deve retornar `73.4`.\n",
    "6. Crie um algoritmo que solicita ao usuário que insira a sua altura em metros e o seu peso em quilogramas e exibe na tela o seu índice de massa corporal (IMC).\n",
    "   - Exemplo: um usuário digita a altura `1.75` e o peso `80.5`. O algoritmo deve retornar `26.29`.\n",
    "7. Crie um algoritmo que solicita ao usuário que insira dois números e exibe na tela o resultado da soma, subtração, multiplicação e divisão desses números.\n",
    "   - Exemplo: um usuário digita o número `-10.2` e, em seguida, `2`. O algoritmo deve retornar o resultado da soma (`-8.2`), subtração (`-12.2`), multiplicação (`-20.4`) e divisão (`-5.1`)."
   ]
  },
  {
   "cell_type": "markdown",
   "id": "50700dfa-d46b-4d69-a4c6-1c66c23dc336",
   "metadata": {},
   "source": [
    "### Respostas"
   ]
  },
  {
   "cell_type": "markdown",
   "id": "3c4ae896-c623-4706-9961-e2689d9178d4",
   "metadata": {},
   "source": [
    "1. Crie um algoritmo que solicita ao usuário que insira seu nome e exibe na tela uma mensagem de saudação\n",
    "\n",
    "```python\n",
    "# Solicita que o usuário digite seu nome\n",
    "nome = input(\"Digite seu nome: \")\n",
    "\n",
    "# Exibe uma mensagem de saudação na tela\n",
    "print(\"Oi, \", nome, \"! Espero que você tenha uma boa semana!\")\n",
    "```\n",
    "\n",
    "Explicando o código acima, na primeira linha é solicitado ao usuário que digite o seu nome e essa informação é armazenada na variável `nome`. Já na segunda linha, uma mensagem de saudação é exibida na tela utilizando a função `print`, que recebe uma string e a variável `nome` (que contém o nome do usuário) como argumentos.\n",
    "\n",
    "Ao executar o programa, o usuário verá uma mensagem solicitando que ele digite o seu nome. Em seguida, o nome digitado será exibido na mensagem de saudação que aparecerá na tela."
   ]
  },
  {
   "cell_type": "markdown",
   "id": "eb60e153-57a1-4d94-b261-00eb20154228",
   "metadata": {},
   "source": [
    "2. Crie um algoritmo que solicita ao usuário que insira um número decimal e exibe o dobro desse número na tela.\n",
    "\n",
    "```python\n",
    "# Solicita ao usuário que insira um número decimal e armazena na variável \"num\"\n",
    "num = float(input(\"Insira um número decimal: \"))\n",
    "\n",
    "# Calcula o dobro do número e armazena na variável \"dobro\"\n",
    "dobro = num * 2\n",
    "\n",
    "# Exibe o resultado na tela\n",
    "print(dobro)\n",
    "```\n",
    "\n",
    "Neste algoritmo, a função `input()` é utilizada para solicitar ao usuário que insira um número decimal, que é então convertido para um valor do tipo `float`. Em seguida, o dobro desse número é calculado e armazenado na variável dobro. Por fim, a função `print()` é utilizada para exibir na tela uma mensagem contendo o resultado do cálculo."
   ]
  },
  {
   "cell_type": "markdown",
   "id": "a8e3297a-5f12-45a0-8363-40fbdd5450e3",
   "metadata": {},
   "source": [
    "3. Crie um algoritmo que solicita ao usuário que insira um número inteiro e exibe na tela se ele é par ou ímpar.\n",
    "\n",
    "```python\n",
    "num = int(input(\"Insira um número inteiro: \"))\n",
    "\n",
    "if num % 2 == 0:\n",
    "    print(num, \"é um número par\")\n",
    "else:\n",
    "    print(num, \"é um número ímpar\")\n",
    "```\n",
    "\n",
    "O algoritmo começa solicitando ao usuário que insira um número inteiro através da função `input()`, que lê a entrada do usuário como uma string. Em seguida, o número é convertido para um inteiro usando a função `int()`, e armazenado na variável `num`.\n",
    "\n",
    "A partir daí, usamos um condicional if para verificar se o número é par ou ímpar. Se o resto da divisão por `2 (num % 2)` for igual a 0, significa que o número é par, e a mensagem correspondente é exibida na tela usando a função `print()`. Caso contrário, o número é ímpar, e a mensagem correspondente é exibida."
   ]
  },
  {
   "cell_type": "markdown",
   "id": "36ebb6d5-4119-471a-953a-fc5e4fb189a7",
   "metadata": {},
   "source": [
    "4. Crie um algoritmo que solicita ao usuário que insira um número e exibe na tela se ele é positivo, negativo ou zero.\n",
    "\n",
    "```python\n",
    "num = float(input(\"Digite um número: \"))\n",
    "\n",
    "if num > 0:\n",
    "    print(\"O número é positivo.\")\n",
    "elif num < 0:\n",
    "    print(\"O número é negativo.\")\n",
    "else:\n",
    "    print(\"O número é zero.\")\n",
    "```\n",
    "\n",
    "O programa começa pedindo para que o usuário digite um número, que é armazenado na variável num. Em seguida, um bloco condicional `if-elif-else` é utilizado para verificar se o número é positivo, negativo ou zero.\n",
    "\n",
    "Se o número for maior que zero, o programa exibe a mensagem `O número é positivo`. Se o número for menor que zero, o programa exibe a mensagem `O número é negativo`. Se o número for igual a zero, o programa exibe a mensagem `O número é zero`."
   ]
  },
  {
   "cell_type": "markdown",
   "id": "64c5d2b6-7c9d-41e6-90f0-661bf90d9f6f",
   "metadata": {},
   "source": [
    "5. Crie um algoritmo que solicita ao usuário que insira a temperatura em graus Celsius e exibe na tela a temperatura em Fahrenheit.\n",
    "\n",
    "```python\n",
    "# Solicita a temperatura em Celsius ao usuário\n",
    "temp_celsius = float(input(\"Digite a temperatura em graus Celsius: \"))\n",
    "\n",
    "# Converte a temperatura para Fahrenheit\n",
    "temp_fahrenheit = (temp_celsius * 9/5) + 32\n",
    "\n",
    "# Exibe a temperatura em Fahrenheit\n",
    "print(\"A temperatura em graus Fahrenheit é:\", temp_fahrenheit)\n",
    "```\n",
    "\n",
    "A função `input()` solicita ao usuário que digite a temperatura em graus Celsius e a armazena na variável `temp_celsius`.\n",
    "\n",
    "Em seguida, o algoritmo usa uma fórmula amplamente usada na Física ($°C * {{9} \\over {5}} + 32$) para converter a temperatura de Celsius para Fahrenheit e armazena o resultado na variável `temp_fahrenheit`.\n",
    "\n",
    "Por fim, a função `print()` exibe a temperatura em Fahrenheit na tela."
   ]
  },
  {
   "cell_type": "markdown",
   "id": "da0fd35e-f886-44ec-b7da-5adb9bf718c2",
   "metadata": {},
   "source": [
    "6. Crie um algoritmo que solicita ao usuário que insira a sua altura em metros e o seu peso em quilogramas e exibe na tela o seu índice de massa corporal (IMC).\n",
    "\n",
    "```python\n",
    "altura = float(input(\"Digite sua altura em metros: \"))\n",
    "peso = float(input(\"Digite seu peso em quilogramas: \"))\n",
    "\n",
    "imc = peso / altura ** 2\n",
    "\n",
    "print(\"Seu IMC é: \", imc)\n",
    "```\n",
    "\n",
    "O algoritmo acima solicita que o usuário digite sua altura em metros e seu peso em quilogramas. Em seguida, ele calcula o índice de massa corporal (IMC) usando a fórmula ${peso} \\over {altura ^ 2}$, armazenando o resultado na variável de nome `imc`.\n",
    "\n",
    "No caso, `altura ** 2` tem o mesmo significado de $altura ^2$. Por fim, exibe na tela o valor do IMC com a mensagem \"Seu IMC é: \" seguido pelo valor da variável `imc`."
   ]
  },
  {
   "cell_type": "markdown",
   "id": "ad96153e-16f9-4349-94d0-83d702ab509d",
   "metadata": {},
   "source": [
    "7. Crie um algoritmo que solicita ao usuário que insira dois números e exibe na tela o resultado da soma, subtração, multiplicação e divisão desses números.\n",
    "\n",
    "```python\n",
    "# solicita ao usuário que insira dois números\n",
    "num1 = float(input(\"Insira o primeiro número: \"))\n",
    "num2 = float(input(\"Insira o segundo número: \"))\n",
    "\n",
    "# realiza as operações matemáticas\n",
    "soma = num1 + num2\n",
    "subtracao = num1 - num2\n",
    "multiplicacao = num1 * num2\n",
    "divisao = num1 / num2\n",
    "\n",
    "# exibe os resultados na tela\n",
    "print(\"A soma é:\", soma)\n",
    "print(\"A subtração é:\", subtracao)\n",
    "print(\"A multiplicação é:\", multiplicacao)\n",
    "print(\"A divisão é:\", divisao)\n",
    "```\n",
    "\n",
    "Nesse algoritmo, o usuário é solicitado a inserir dois números, que são armazenados nas variáveis `num1` e `num2`. Em seguida, são realizadas as operações matemáticas de soma, subtração, multiplicação e divisão entre os números, que são armazenadas nas variáveis `soma`, `subtracao`, `multiplicacao` e `divisao`, respectivamente. Por fim, os resultados são exibidos na tela por meio da função `print()`."
   ]
  },
  {
   "cell_type": "markdown",
   "id": "097ed3b9-0748-48b3-8142-da4161085628",
   "metadata": {},
   "source": [
    "## Exemplos de erros comuns\n",
    "\n",
    "## Formatação de strings"
   ]
  },
  {
   "cell_type": "code",
   "execution_count": null,
   "id": "ac20891f-f42b-4cc7-abda-f7dda6decfe4",
   "metadata": {},
   "outputs": [],
   "source": [
    "Calculadora de IMC: pede ao usuário para inserir seu peso e altura e, em seguida, calcula e imprime seu índice de massa corporal.\n",
    "Conversor de temperatura: pede ao usuário para inserir uma temperatura em graus Celsius e converte para Fahrenheit, exibindo o resultado na tela.\n",
    "Verificador de idade: pede ao usuário para inserir sua data de nascimento e, em seguida, verifica se a pessoa é maior de idade ou não.\n",
    "Calculadora de gorjeta: pede ao usuário para inserir o valor total da conta do restaurante e, em seguida, calcula e imprime a gorjeta com base em uma porcentagem escolhida.\n",
    "Gerador de senha: pede ao usuário para inserir a quantidade de caracteres que deseja em sua senha e, em seguida, gera uma senha aleatória com esses caracteres.\n",
    "Sorteador de números: pede ao usuário para inserir a quantidade de números a serem sorteados e, em seguida, sorteia esse número de números aleatórios e os exibe na tela.\n",
    "Gerador de cartão de bingo: pede ao usuário para inserir a quantidade de cartões de bingo que deseja gerar e, em seguida, gera essa quantidade de cartões aleatórios.\n",
    "Verificador de palíndromo: pede ao usuário para inserir uma palavra e, em seguida, verifica se ela é um palíndromo (ou seja, se é a mesma palavra quando lida de trás para frente).\n",
    "Verificador de par ou ímpar: pede ao usuário para inserir um número e, em seguida, verifica se é par ou ímpar e exibe a resposta na tela.\n",
    "Conversor de moedas: pede ao usuário para inserir um valor em uma moeda e, em seguida, converte para outra moeda escolhida, exibindo o resultado na tela.\n",
    "\n",
    "Tutorial de Python da W3Schools: https://www.w3schools.com/python/\n",
    "Curso de Python no Codecademy: https://www.codecademy.com/learn/learn-python-3\n",
    "Livro \"Python para todos\" de Charles Severance: https://www.py4e.com/book"
   ]
  },
  {
   "cell_type": "markdown",
   "id": "f62b8572-22ce-4bbc-a4a2-8144f8dcbab1",
   "metadata": {},
   "source": []
  },
  {
   "cell_type": "markdown",
   "id": "67c56eb3-a5ea-4b5a-9f8f-adf4b3d70696",
   "metadata": {},
   "source": [
    "## Referências bibliográficas"
   ]
  },
  {
   "cell_type": "markdown",
   "id": "e1aacf96-ae08-482a-9ba7-24bf0280151f",
   "metadata": {},
   "source": [
    "- BEAZLEY, D. M.; JONES, B. K. Python Cookbook (3ª ed.). O'Reilly Media, 2013.\n",
    "- DAWSON, M. Python para desenvolvedores. 2. ed. São Paulo: Novatec, 2016.\n",
    "- DOWNEY, A. B. Think Python: How to Think Like a Computer Scientist (2ª ed.). O'Reilly Media, 2015.\n",
    "- NAYAK, A. K. (2021). Python Programming: The Complete Guide to Learn Python for Data Science, AI, Machine Learning, and Coding (2ª ed.). Amazon.\n",
    "- PYTHON. Built-in Constants. Disponível em: https://docs.python.org/3/library/constants.html. Acesso em: 21 out. 2022.\n",
    "- PYTHON. Built-in Types. Disponível em: https://docs.python.org/3/library/stdtypes.html. Acesso em: 24 out. 2022.\n",
    "- PYTHON. Objects, values and types. Disponível em: https://docs.python.org/3/reference/datamodel.html#objects-values-and-types. Acesso em: 24 out. 2022.\n",
    "- RAMALHO, L. (2015). Fluent Python: Clear, Concise, and Effective Programming. O'Reilly Media.\n",
    "- SWEIGART, A. Automate the Boring Stuff with Python: Practical Programming for Total Beginners. No Starch Press, 2015.\n",
    "- THOMAS, D., HUNT, A., & KNIGHT, K. (2014). Programming Python (4ª ed.). O'Reilly Media.\n",
    "- VANDERPLAS, J. (2016). Python Data Science Handbook: Essential Tools for Working with Data. O'Reilly Media.\n",
    "- W3SCHOOLS. Python Constants. Disponível em: https://www.w3schools.com/python/gloss_python_constants.asp. Acesso em: 21 out. 2022.\n",
    "- W3SCHOOLS. Python Operators. Disponível em: https://www.w3schools.com/python/python_operators.asp. Acesso em: 24 out. 2022.\n",
    "- ZELLE, J. M. Python Programming: An Introduction to Computer Science (3ª ed.). Franklin, Beedle & Associates, 2017."
   ]
  },
  {
   "cell_type": "code",
   "execution_count": null,
   "id": "5e26cd5a-7c1d-404d-a0b7-0d868839a330",
   "metadata": {},
   "outputs": [],
   "source": []
  }
 ],
 "metadata": {
  "kernelspec": {
   "display_name": "Python 3 (ipykernel)",
   "language": "python",
   "name": "python3"
  },
  "language_info": {
   "codemirror_mode": {
    "name": "ipython",
    "version": 3
   },
   "file_extension": ".py",
   "mimetype": "text/x-python",
   "name": "python",
   "nbconvert_exporter": "python",
   "pygments_lexer": "ipython3",
   "version": "3.9.12"
  }
 },
 "nbformat": 4,
 "nbformat_minor": 5
}
